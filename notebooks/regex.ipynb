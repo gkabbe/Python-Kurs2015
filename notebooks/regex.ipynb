{
 "metadata": {
  "name": "",
  "signature": "sha256:fa2bc378be08ec5a895f4f7dd4a7bc62cdf475929c2144adf83975611b0e26ae"
 },
 "nbformat": 3,
 "nbformat_minor": 0,
 "worksheets": [
  {
   "cells": [
    {
     "cell_type": "markdown",
     "metadata": {},
     "source": [
      "# Regul\u00e4re Ausdr\u00fccke #\n",
      "\n",
      "## Was ist das? ##\n",
      "\n",
      "Regul\u00e4re Ausdr\u00fccke (bzw. regular expressions im Englischen) sind ein prima Hilfsmittel, um Texte nach Schl\u00fcsselw\u00f6rtern zu durchsuchen. Ein Beispiel w\u00e4re alle E-Mail Adressen in einem Dokument, alle W\u00f6rter, die keine Zahlen enthalten, Alle W\u00f6rter, die mit einem Gro\u00dfbuchstaben beginnen, ...\n",
      "Die M\u00f6glichkeiten sind unbegrenzt."
     ]
    },
    {
     "cell_type": "markdown",
     "metadata": {},
     "source": [
      "## Grundlegende Befehle ##\n",
      "\n",
      "\n"
     ]
    },
    {
     "cell_type": "markdown",
     "metadata": {},
     "source": [
      "## Benutzung in Python ##\n",
      "\n",
      "Um regular expressions in Python zu benutzen, ben\u00f6tigen wir das Modul re. Dieses ist schon von Beginn an in der Python Standard Library enthalten.\n",
      "Eine ausf\u00fchrliche Beschreibung der Python-Regexbefehle gibt es [hier](https://docs.python.org/2/library/re.html) und [hier](https://docs.python.org/2/howto/regex.html#regex-howto). "
     ]
    },
    {
     "cell_type": "code",
     "collapsed": false,
     "input": [
      "import re"
     ],
     "language": "python",
     "metadata": {},
     "outputs": []
    },
    {
     "cell_type": "markdown",
     "metadata": {},
     "source": [
      "## Ein Wort in einem Text suchen ##\n",
      "\n",
      "Als allererstes simples Beispiel suchen wir einfach ein normales Wort in einem Text."
     ]
    },
    {
     "cell_type": "markdown",
     "metadata": {},
     "source": [
      "### re.search ###\n",
      "\n",
      "M\u00f6chten wir nur wissen, ob ein Wort im Text vorkommt, reicht meistens re.search"
     ]
    },
    {
     "cell_type": "code",
     "collapsed": false,
     "input": [
      "print re.search(\"hallo\", \"123912039u123hallo4324234\")\n",
      "print re.search(\"hallo\", \"123912039u123ciao4324234\")"
     ],
     "language": "python",
     "metadata": {},
     "outputs": []
    },
    {
     "cell_type": "markdown",
     "metadata": {},
     "source": [
      "In diesem Beispiel liefert uns re.search ein Match Objekt zur\u00fcck. Das bedeutet, dass das gesuchte Wort im Text gefunden wurde.\n",
      "Kommt es nicht vor, wird ein None zur\u00fcckgegeben.\n",
      "re.search ist besonders praktisch wenn man mit einer if-Bedingung pr\u00fcfen m\u00f6chte, ob ein Wort in einem String vorkommt:"
     ]
    },
    {
     "cell_type": "code",
     "collapsed": false,
     "input": [
      "match = re.search(\"hallo\", \"123912039u123hallo4324234\")\n",
      "if match:\n",
      "    print match.group(), \"gefunden\""
     ],
     "language": "python",
     "metadata": {},
     "outputs": []
    },
    {
     "cell_type": "markdown",
     "metadata": {},
     "source": [
      "match.group() gibt uns dabei das gefundene Wort zur\u00fcck.\n",
      "Oftmals wollen wir aber nicht nach einem fixen Wort suchen, sondern nach W\u00f6rtern, die ein bestimmtes Muster aufweisen.\n",
      "Als einfaches Beispiel suchen wir nun nach allen W\u00f6rtern die aus einem oder mehreren a's bestehen."
     ]
    },
    {
     "cell_type": "code",
     "collapsed": false,
     "input": [
      "m = re.search(\"a+\", \"1234567aaaaaaa987\")\n",
      "print m.group()"
     ],
     "language": "python",
     "metadata": {},
     "outputs": []
    },
    {
     "cell_type": "markdown",
     "metadata": {},
     "source": [
      "Solange in dem oberen String mindestens ein a vorkommt, wird ein Match Objekt zur\u00fcckgegeben.\n",
      "Das Plus-Zeichen sagt genau das aus: suche alle a's, die einmal bis beliebig oft vorkommen."
     ]
    },
    {
     "cell_type": "markdown",
     "metadata": {},
     "source": [
      "M\u00f6chten wir das Plus auf eine Zeichenkette anwenden, m\u00fcssen wir klammern."
     ]
    },
    {
     "cell_type": "code",
     "collapsed": false,
     "input": [
      "match = re.search(\"(abc)+\", \"1234567abcabcabcabc987\")\n",
      "print match.group()"
     ],
     "language": "python",
     "metadata": {},
     "outputs": []
    },
    {
     "cell_type": "markdown",
     "metadata": {},
     "source": [
      "Achtung: folgendes Beispiel gibt keinen Match:"
     ]
    },
    {
     "cell_type": "code",
     "collapsed": false,
     "input": [
      "match = re.search(\"(abc)+\", \"acbacbacb1234567987\")"
     ],
     "language": "python",
     "metadata": {},
     "outputs": []
    },
    {
     "cell_type": "markdown",
     "metadata": {},
     "source": [
      "Zwar kommen dort die Buchstaben a, b und c im rechten String vor. Allerdings stimmt die Reihenfolge nicht.\n",
      "Unsere Suche \"(abc)+\" wird nur einen Match liefern wenn Zeichenketten der Form\n",
      "\n",
      "abc\n",
      "\n",
      "abcabc\n",
      "\n",
      "abcabcabc\n",
      "\n",
      "abcabcabcabc\n",
      "\n",
      "...\n",
      "\n",
      "vorkommen"
     ]
    },
    {
     "cell_type": "markdown",
     "metadata": {},
     "source": [
      "Ist uns die Reihenfolge egal, m\u00fcssen wir eckige Klammern verwenden."
     ]
    },
    {
     "cell_type": "code",
     "collapsed": false,
     "input": [
      "match = re.search(\"[abc]+\", \"acbacbacb1234567987\")\n",
      "print match.group()"
     ],
     "language": "python",
     "metadata": {},
     "outputs": []
    },
    {
     "cell_type": "markdown",
     "metadata": {},
     "source": [
      "Jetzt wird nach W\u00f6rtern gesucht, die aus den Buchstaben a, b und c bestehen. Die Reihenfolge ist dabei egal."
     ]
    },
    {
     "cell_type": "code",
     "collapsed": false,
     "input": [
      "# Hier ein paar Beispiele der L\u00e4nge 3\n",
      "for text in [\"abc\", \"acb\", \"acc\", \"aaa\", \"bbb\", \"ccc\", \"ddd\"]:\n",
      "    match = re.search(\"[abc]+\", text)\n",
      "    if match:\n",
      "        print match.group(), \"wird gematcht\"\n",
      "    else:\n",
      "        print text, \"wird nicht gematcht\""
     ],
     "language": "python",
     "metadata": {},
     "outputs": []
    },
    {
     "cell_type": "markdown",
     "metadata": {},
     "source": [
      "### re.findall ###\n",
      "\n",
      "M\u00f6chten wir mehrere Vorkommen eines Wortes in einem Text finden, hilft uns re.findall.\n",
      "\n",
      "Als Beispiel suchen wir alle Integerzahlen in einem Text"
     ]
    },
    {
     "cell_type": "code",
     "collapsed": false,
     "input": [
      "print re.findall(\"[1-9]+\", \"in d13s3m T3xt sind 31n p44r Z4hl3n versteckt.\")"
     ],
     "language": "python",
     "metadata": {},
     "outputs": []
    },
    {
     "cell_type": "markdown",
     "metadata": {},
     "source": [
      "re.findall liefert uns brav alle Matches in einer Liste. Sehr praktisch!\n",
      "\n",
      "Man sieht an obigem Beispiel auch, dass es m\u00f6glich ist, eine Art range in den eckigen Klammern anzugeben.\n",
      "[0-9] ist also \u00e4quivalent zu [0123456789]. Das geht \u00fcbrigens auch f\u00fcr Buchstaben: [a-z] oder [A-Z] oder [a-zA-Z1-9] ..."
     ]
    },
    {
     "cell_type": "markdown",
     "metadata": {},
     "source": [
      "### Nach verschiedenen Worten suchen ###"
     ]
    },
    {
     "cell_type": "code",
     "collapsed": false,
     "input": [
      "re.findall(\"[Hh]allo|[Cc]iao\", \"Hallo, dies ist ein Beispieltext. Das war's auch schon. Ciao bis zum n\u00e4chsten Mal!\")"
     ],
     "language": "python",
     "metadata": {},
     "outputs": []
    },
    {
     "cell_type": "markdown",
     "metadata": {},
     "source": [
      "Suchen Sie in folgendem Text alle Telefonnummern heraus. Eine Telefonnummer f\u00e4ngt (bei uns) mit +49 oder 0 an, danach folgen beliebig viele Ziffern"
     ]
    },
    {
     "cell_type": "code",
     "collapsed": false,
     "input": [
      "suchtext = \"\"\"\n",
      "Hallo, meine neue Telefonnummer ist 01234 123 42 123.\n",
      "\n",
      "Die alte Nummer(+49 333 123 456 789) ist nicht mehr g\u00fcltig.\n",
      "\n",
      "au\u00dferdem gibt es noch 062031234567.\n",
      "\"\"\"\n"
     ],
     "language": "python",
     "metadata": {},
     "outputs": []
    },
    {
     "cell_type": "code",
     "collapsed": false,
     "input": [],
     "language": "python",
     "metadata": {},
     "outputs": []
    },
    {
     "cell_type": "code",
     "collapsed": false,
     "input": [],
     "language": "python",
     "metadata": {},
     "outputs": []
    }
   ],
   "metadata": {}
  }
 ]
}