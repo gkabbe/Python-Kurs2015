{
 "cells": [
  {
   "cell_type": "code",
   "execution_count": null,
   "metadata": {
    "collapsed": false
   },
   "outputs": [],
   "source": [
    "%pylab inline\n",
    "from PIL import Image\n",
    "from scipy.signal import convolve2d\n",
    "\n",
    "# Neuer tif-Link https://my.mail.de/dl/8c55544751dd4272a1c558a98fa545e2"
   ]
  },
  {
   "cell_type": "markdown",
   "metadata": {},
   "source": [
    "Disclaimer: alles folgende wurde nach bestem Gewissen erstellt. Fehler dürfen gefunden und korrigiert werden."
   ]
  },
  {
   "cell_type": "markdown",
   "metadata": {},
   "source": [
    "# Schritt 1 : Mulden (Depressions) füllen #\n",
    "Wasserfluss lässt sich schwierig von DEMs bestimmen, wenn Mulden vorhanden sind\n",
    "-> Mulden füllen\n",
    "    \n"
   ]
  },
  {
   "cell_type": "raw",
   "metadata": {},
   "source": [
    "# Flussrichtungen bestimmen #\n",
    "Jede Zelle hat 8 mögliche Flussrichtungen\n",
    "\n",
    "Diese sind folgendermaßen kodiert:\n",
    "    64 128 1\n",
    "    32  x  2\n",
    "    16  8  4"
   ]
  },
  {
   "cell_type": "code",
   "execution_count": null,
   "metadata": {
    "collapsed": false
   },
   "outputs": [],
   "source": [
    "terrain = np.array(Image.open(\"srtm_39_02b.tif\"))"
   ]
  },
  {
   "cell_type": "code",
   "execution_count": null,
   "metadata": {
    "collapsed": false
   },
   "outputs": [],
   "source": [
    "# Table 1, Step 1\n",
    "# Wir füllen einzelne Mulden so hoch wie die niedrigste umgebende Zelle hoch ist\n",
    "def fill_depressions(original_terrain):\n",
    "    terrain = np.copy(original_terrain)\n",
    "    for i in xrange(1, terrain.shape[0]-1):\n",
    "        if i % 100 == 0:\n",
    "            print i\n",
    "        for j in xrange(1, terrain.shape[1]-1):\n",
    "            # Ränder werden erstmal weggelassen\n",
    "            # wir betrachten Pixel (i, j)\n",
    "            pixel_is_depr = True\n",
    "            min_height = 10e5 # irgendein sehr hoher Wert\n",
    "            for k in xrange(-1, 2):\n",
    "                for l in range(-1, 2):\n",
    "                    if (i, j) != (0, 0):\n",
    "                        # sobald ein nachbar nicht höher als pixel i,j ist, ist es keine Senke\n",
    "                        pixel_is_depr = pixel_is_depr and terrain[i+k, j+l] > terrain[i, j]\n",
    "                        min_height = min(min_height, terrain[i+k, j+l])\n",
    "            if pixel_is_depr:\n",
    "                terrain[i, j] = min_height\n",
    "    return terrain\n",
    "\n",
    "# sehr langsam!\n"
   ]
  },
  {
   "cell_type": "code",
   "execution_count": null,
   "metadata": {
    "collapsed": false
   },
   "outputs": [],
   "source": [
    "# Numpy-optimierte Version\n",
    "def fill_dep_better(original_terrain):\n",
    "    #terrain = np.copy(original_terrain)\n",
    "    # Wir bauen einen Array, der aus 9 \"Schichten\" besteht:\n",
    "    # Erste Schicht: Originalarray ohne Ränder\n",
    "    # Jede weitere Schicht um eins horizontal, vertikal oder diagonal verschoben\n",
    "    schicht_array = np.zeros((9, original_terrain.shape[0]-2, original_terrain.shape[1]-2), int)\n",
    "    schicht_array[0] = original_terrain[1:-1, 1:-1]\n",
    "    schicht = 1\n",
    "    for k in xrange(-1, 2):\n",
    "        for l in xrange(-1, 2):\n",
    "            if (k, l) != (0, 0):\n",
    "                #print np.roll(np.roll(original_terrain, k, axis=0), l, axis=1)\n",
    "                schicht_array[schicht] = np.roll(np.roll(original_terrain, k, axis=0), l, axis=1)[1:-1, 1:-1]\n",
    "                schicht += 1\n",
    "    # entlang Achse 0 liegt jetzt jeder Pixel in schicht_array[0] mit seinen Nachbarn übereinander\n",
    "    res = (schicht_array[1:] > schicht_array[0]).all(axis=0)\n",
    "    ind1, ind2 = np.where(res)\n",
    "    schicht_array[0, ind1, ind2] = schicht_array[1:, ind1, ind2].min(axis=0)\n",
    "    return schicht_array[0], res\n",
    "    #Image.fromarray(np.array(res, dtype=np.uint8)).show()"
   ]
  },
  {
   "cell_type": "code",
   "execution_count": null,
   "metadata": {
    "collapsed": false
   },
   "outputs": [],
   "source": [
    "t2, res = fill_dep_better(terrain)\n"
   ]
  },
  {
   "cell_type": "code",
   "execution_count": null,
   "metadata": {
    "collapsed": false
   },
   "outputs": [],
   "source": [
    "indices = zip(*np.where(t2 != terrain[1:-1, 1:-1]))"
   ]
  },
  {
   "cell_type": "code",
   "execution_count": null,
   "metadata": {
    "collapsed": false
   },
   "outputs": [],
   "source": [
    "for i, j in indices:\n",
    "    print terrain[i:i+3, j:j+3]\n",
    "    print t2[i-1:i+2, j-1:j+2]"
   ]
  },
  {
   "cell_type": "code",
   "execution_count": null,
   "metadata": {
    "collapsed": false
   },
   "outputs": [],
   "source": [
    "terrain.shape"
   ]
  },
  {
   "cell_type": "code",
   "execution_count": null,
   "metadata": {
    "collapsed": true
   },
   "outputs": [],
   "source": []
  }
 ],
 "metadata": {
  "kernelspec": {
   "display_name": "Python 2",
   "language": "python",
   "name": "python2"
  },
  "language_info": {
   "codemirror_mode": {
    "name": "ipython",
    "version": 2
   },
   "file_extension": ".py",
   "mimetype": "text/x-python",
   "name": "python",
   "nbconvert_exporter": "python",
   "pygments_lexer": "ipython2",
   "version": "2.7.9"
  }
 },
 "nbformat": 4,
 "nbformat_minor": 0
}
