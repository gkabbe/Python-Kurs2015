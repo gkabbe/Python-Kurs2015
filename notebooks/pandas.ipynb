{
 "metadata": {
  "name": "",
  "signature": "sha256:c8c5e9f597b1ed91b3226a88def2ddb9ffa5d60353f799be92cd68d153944a7a"
 },
 "nbformat": 3,
 "nbformat_minor": 0,
 "worksheets": [
  {
   "cells": [
    {
     "cell_type": "code",
     "collapsed": false,
     "input": [
      "%pylab inline\n",
      "import pandas as pd"
     ],
     "language": "python",
     "metadata": {},
     "outputs": []
    },
    {
     "cell_type": "code",
     "collapsed": false,
     "input": [
      "from ftplib import FTP\n",
      "import zipfile\n",
      "from cStringIO import StringIO # um nichts auf die Festplatte zu schreiben, benutzen wir StringIO, mit dem wir ein file-artiges Objekt bekommen, das alles als String speichert."
     ],
     "language": "python",
     "metadata": {},
     "outputs": []
    },
    {
     "cell_type": "code",
     "collapsed": false,
     "input": [
      "# Adresse des FTP-Servers sowie des Verzeichnisses der Wetterdaten\n",
      "server = \"ftp-cdc.dwd.de\"\n",
      "filepath = \"/pub/CDC/observations_germany/climate/daily/kl/historical/\""
     ],
     "language": "python",
     "metadata": {},
     "outputs": []
    },
    {
     "cell_type": "code",
     "collapsed": false,
     "input": [
      "# Wir loggen uns auf dem FTP-Server ein und wechseln in das Verzeichnis\n",
      "ftp = FTP(server)\n",
      "ftp.login()\n",
      "ftp.cwd(filepath)"
     ],
     "language": "python",
     "metadata": {},
     "outputs": []
    },
    {
     "cell_type": "code",
     "collapsed": false,
     "input": [
      "# Wir erzeugen ein Pseudofile mit StringIO und speichern das Zip-File dort. Dann \u00f6ffnen wir es mithilfe des zipfile Moduls\n",
      "pseudofile = StringIO()\n",
      "ftp.retrbinary(\"RETR tageswerte_01957_19510101_20141231_hist.zip\", pseudofile.write)\n",
      "zf = zipfile.ZipFile(pseudofile)"
     ],
     "language": "python",
     "metadata": {},
     "outputs": []
    },
    {
     "cell_type": "code",
     "collapsed": false,
     "input": [
      "# namelist zeigt uns, welche Dateien im Zip-Archiv gespeichert sind.\n",
      "# Wir sind nur an produkt_monat_Monatswerte_19510101_20141231_01957.txt interessiert\n",
      "zf.namelist()"
     ],
     "language": "python",
     "metadata": {},
     "outputs": []
    },
    {
     "cell_type": "code",
     "collapsed": false,
     "input": [
      "# Unser erster Versuch, die Daten in Pandas einzulesen. Klappt so weit ganz gut, allerdings f\u00e4llt auf, dass die Spaltenbezeichner\n",
      "# noch Leerzeichen am Anfang enthalten\n",
      "# Das resultierende Objekt ist \u00fcbrigens ein sogenannter \"DataFrame\"\n",
      "\n",
      "with zf.open('produkt_klima_Tageswerte_19510101_20141231_01957.txt', \"r\") as f:\n",
      "    data = pd.read_csv(f, sep=\";\")\n",
      "    print data.columns\n",
      "    print type(data)"
     ],
     "language": "python",
     "metadata": {},
     "outputs": []
    },
    {
     "cell_type": "code",
     "collapsed": false,
     "input": [
      "# Indem wir den Delimiter mittels einer sogenannten Regular Expression beschreiben (delimiter=\\s*;\\s* bedeutet, dass alles was null bis beliebig\n",
      "# viele Leerzeichen am Anfang, dann ein Semikolon, und am Ende null bis beliebig viele Leerzeichen hat als Delimiter betrachtet werden soll)\n",
      "# verschwinden die Leerzeichen aus den Spaltennamen.\n",
      "\n",
      "with zf.open('produkt_klima_Tageswerte_19510101_20141231_01957.txt', \"r\") as f:\n",
      "    data = pd.read_csv(f, delimiter=\"\\s*;\\s*\")\n",
      "    print data.columns"
     ],
     "language": "python",
     "metadata": {},
     "outputs": []
    },
    {
     "cell_type": "code",
     "collapsed": false,
     "input": [
      "# Um jetzt sch\u00f6n plotten zu k\u00f6nnen, tun wir zwei Dinge:\n",
      "# 1) wir wandeln die Integers in der Spalte \"MESS_DATUM\", die in der Form 19510101 (stellvertretend f\u00fcr Jahr, Monat, Tag) auftreten\n",
      "# in echte Datumsobjekte um\n",
      "# 2) wir sagen Pandas, dass wir das Datum als unseren Default-Index benutzen m\u00f6chten\n",
      "\n",
      "data.MESS_DATUM =  pd.to_datetime(data.MESS_DATUM, format=\"%Y%m%d\")\n",
      "data = data.set_index(\"MESS_DATUM\")"
     ],
     "language": "python",
     "metadata": {},
     "outputs": []
    },
    {
     "cell_type": "code",
     "collapsed": false,
     "input": [
      "# Wenn wir uns nun die Lufttemperatur ausgeben lassen, wird als Index automatisch das Datum der Messung angezeigt\n",
      "print data[\"LUFTTEMPERATUR\"]"
     ],
     "language": "python",
     "metadata": {},
     "outputs": []
    },
    {
     "cell_type": "code",
     "collapsed": false,
     "input": [
      "# Nun sortieren wir die Daten etwas aus. Oft gibt es fehlerhafte Daten, bei denen die Temperatur auf -999 gesetzt ist\n",
      "# \u00c4hnlich wie bei Numpyarrays gibt ein boolscher Ausdruck bei Pandas eine Serie von boolschen Werten zur\u00fcck\n",
      "\n",
      "good_values = data.LUFTTEMPERATUR > -999\n",
      "print type(good_values)"
     ],
     "language": "python",
     "metadata": {},
     "outputs": []
    },
    {
     "cell_type": "code",
     "collapsed": false,
     "input": [
      "# Die ges\u00e4uberten Daten k\u00f6nnen wir nun leicht plotten\n",
      "# Da wir das Messdatum als Index ausgew\u00e4hlt haben, benutzt Pandas es automatisch als x-Achse\n",
      "data_good = data[good_values] # W\u00e4hlt nur die Zeilen aus, bei denen good_values True ist (bei Numpy br\u00e4uchte man noch np.where)\n",
      "data_good.LUFTTEMPERATUR.plot()\n",
      "plt.show()"
     ],
     "language": "python",
     "metadata": {},
     "outputs": []
    },
    {
     "cell_type": "code",
     "collapsed": false,
     "input": [
      "# Die Bestimmung der k\u00e4ltesten gemessenen Temperatur ist einfach\n",
      "data_good.LUFTTEMPERATUR.min()"
     ],
     "language": "python",
     "metadata": {},
     "outputs": []
    },
    {
     "cell_type": "code",
     "collapsed": false,
     "input": [
      "# Um den Temperaturtrend zu bestimmen, fitten wir eine Gerade durch unsere Temperaturwerte\n",
      "\n",
      "from scipy.optimize import curve_fit\n",
      "def f(x, y0, m):\n",
      "    return y0+x*m\n",
      "(y0, m), _ = curve_fit(f, range(data_good.shape[0]), data_good.LUFTTEMPERATUR.values)"
     ],
     "language": "python",
     "metadata": {},
     "outputs": []
    },
    {
     "cell_type": "code",
     "collapsed": false,
     "input": [
      "# Da der kleinste Zeitunterschied ein Tag ist, hat auch die Steigung die Einheit Kelvin pro Tag\n",
      "# Um nun die Temperatur\u00e4nderung pro Jahr zu bekommen, multiplizieren wir mit 365\n",
      "\n",
      "print m*365"
     ],
     "language": "python",
     "metadata": {},
     "outputs": []
    },
    {
     "cell_type": "code",
     "collapsed": false,
     "input": [
      "snow = data_good[[\"SCHNEEHOEHE\"]] # hier die extra Klammer beachten!"
     ],
     "language": "python",
     "metadata": {},
     "outputs": []
    },
    {
     "cell_type": "code",
     "collapsed": false,
     "input": [
      "snow[\"month\"] = snow.index.month # hier f\u00fcgen wir zus\u00e4tzliche Spalten ein\n",
      "snow[\"year\"] = snow.index.year\n",
      "snow_good = snow[snow.SCHNEEHOEHE >= -10] # und nehmen nur die Tage, an denen vern\u00fcnftige Werte gemessen wurden"
     ],
     "language": "python",
     "metadata": {},
     "outputs": []
    },
    {
     "cell_type": "code",
     "collapsed": false,
     "input": [
      "# Wir gruppieren unsere Daten! Das sorgt daf\u00fcr, dass wir f\u00fcr einen bestimmten Monat alle Tage und alle Jahre angezeigt bekommen\n",
      "\n",
      "month_groups = snow_good.groupby(\"month\")"
     ],
     "language": "python",
     "metadata": {},
     "outputs": []
    },
    {
     "cell_type": "code",
     "collapsed": false,
     "input": [
      "# Z.B. f\u00fcr den Januar:\n",
      "januaries = month_groups.get_group(1)\n",
      "print type(januaries)\n",
      "# Wie wir sehen ist januaries wieder ein DataFrame\n",
      "print januaries"
     ],
     "language": "python",
     "metadata": {},
     "outputs": []
    },
    {
     "cell_type": "code",
     "collapsed": false,
     "input": [
      "# Aber eigentlich sind wir ja an den Februar Daten interessiert\n",
      "\n",
      "allthefebruaries = month_groups.get_group(2)"
     ],
     "language": "python",
     "metadata": {},
     "outputs": []
    },
    {
     "cell_type": "code",
     "collapsed": false,
     "input": [
      "# Die Februare gruppieren wir jetzt nochmal nach Jahr. So bekommen wir Jahresgruppen, die jeweils nur ihren Februar enthalten\n",
      "for year, month in allthefebruaries.groupby(\"year\"):\n",
      "    print \"this is year\", year\n",
      "    month.SCHNEEHOEHE.plot()\n",
      "    plt.show()"
     ],
     "language": "python",
     "metadata": {},
     "outputs": []
    },
    {
     "cell_type": "code",
     "collapsed": false,
     "input": [],
     "language": "python",
     "metadata": {},
     "outputs": []
    }
   ],
   "metadata": {}
  }
 ]
}