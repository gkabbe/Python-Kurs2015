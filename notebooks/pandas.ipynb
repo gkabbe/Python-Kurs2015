{
 "metadata": {
  "name": "",
  "signature": "sha256:3599738c10b4ef305edfc6ceb77f4c00b5f2e45f32654179d062f8b31da36172"
 },
 "nbformat": 3,
 "nbformat_minor": 0,
 "worksheets": [
  {
   "cells": [
    {
     "cell_type": "code",
     "collapsed": false,
     "input": [
      "%pylab inline\n",
      "import pandas as pd"
     ],
     "language": "python",
     "metadata": {},
     "outputs": []
    },
    {
     "cell_type": "code",
     "collapsed": false,
     "input": [
      "from ftplib import FTP\n",
      "import zipfile\n",
      "from cStringIO import StringIO # um nichts auf die Festplatte zu schreiben, benutzen wir StringIO, mit dem wir ein file-artiges Objekt bekommen, das alles als String speichert."
     ],
     "language": "python",
     "metadata": {},
     "outputs": []
    },
    {
     "cell_type": "code",
     "collapsed": false,
     "input": [
      "# Adresse des FTP-Servers sowie des Verzeichnisses der Wetterdaten\n",
      "server = \"ftp-cdc.dwd.de\"\n",
      "filepath = \"/pub/CDC/observations_germany/climate/daily/kl/historical/\""
     ],
     "language": "python",
     "metadata": {},
     "outputs": []
    },
    {
     "cell_type": "code",
     "collapsed": false,
     "input": [
      "# Wir loggen uns auf dem FTP-Server ein und wechseln in das Verzeichnis\n",
      "ftp = FTP(server)\n",
      "ftp.login()\n",
      "ftp.cwd(filepath)"
     ],
     "language": "python",
     "metadata": {},
     "outputs": []
    },
    {
     "cell_type": "code",
     "collapsed": false,
     "input": [
      "# Wir erzeugen ein Pseudofile mit StringIO und speichern das Zip-File dort. Dann \u00f6ffnen wir es mithilfe des zipfile Moduls\n",
      "pseudofile = StringIO()\n",
      "ftp.retrbinary(\"RETR tageswerte_01957_19510101_20141231_hist.zip\", pseudofile.write)\n",
      "zf = zipfile.ZipFile(pseudofile)"
     ],
     "language": "python",
     "metadata": {},
     "outputs": []
    },
    {
     "cell_type": "code",
     "collapsed": false,
     "input": [
      "# namelist zeigt uns, welche Dateien im Zip-Archiv gespeichert sind.\n",
      "# Wir sind nur an produkt_monat_Monatswerte_19510101_20141231_01957.txt interessiert\n",
      "zf.namelist()"
     ],
     "language": "python",
     "metadata": {},
     "outputs": []
    },
    {
     "cell_type": "code",
     "collapsed": false,
     "input": [
      "# Unser erster Versuch, die Daten in Pandas einzulesen. Klappt so weit ganz gut, allerdings f\u00e4llt auf, dass die Spaltenbezeichner\n",
      "# noch Leerzeichen am Anfang enthalten\n",
      "\n",
      "with zf.open('produkt_klima_Tageswerte_19510101_20141231_01957.txt', \"r\") as f:\n",
      "    data = pd.read_csv(f, sep=\";\", parse_dates=[1, 2], index_col=1)\n",
      "    print data.columns"
     ],
     "language": "python",
     "metadata": {},
     "outputs": []
    },
    {
     "cell_type": "code",
     "collapsed": false,
     "input": [
      "# Indem wir den Delimiter mittels einer sogenannten Regular Expression beschreiben (delimiter=\\s*;\\s* bedeutet, dass alles was null bis beliebig\n",
      "# viele Leerzeichen am Anfang, dann ein Semikolon, und am Ende null bis beliebig viele Leerzeichen hat als Delimiter betrachtet werden soll)\n",
      "# verschwinden die Leerzeichen aus den Spaltennamen.\n",
      "\n",
      "with zf.open('produkt_klima_Tageswerte_19510101_20141231_01957.txt', \"r\") as f:\n",
      "    data = pd.read_csv(f, delimiter=\"\\s*;\\s*\")\n",
      "    print data.columns"
     ],
     "language": "python",
     "metadata": {},
     "outputs": []
    },
    {
     "cell_type": "code",
     "collapsed": false,
     "input": [
      "# Um jetzt sch\u00f6n plotten zu k\u00f6nnen,\n",
      "\n",
      "x =  pd.to_datetime(data.MESS_DATUM, format=\"%Y%m%d\")\n",
      "new_data = data.set_index(\"MESS_DATUM\")\n",
      "print new_data.LUFTTEMPERATUR.dtype\n",
      "plt.plot(new_data.index, new_data.LUFTTEMPERATUR)\n"
     ],
     "language": "python",
     "metadata": {},
     "outputs": []
    },
    {
     "cell_type": "code",
     "collapsed": false,
     "input": [
      "type(data.MESS_DATUM.data)"
     ],
     "language": "python",
     "metadata": {},
     "outputs": []
    },
    {
     "cell_type": "code",
     "collapsed": false,
     "input": [
      "good_values = data.LUFTTEMPERATUR > -999"
     ],
     "language": "python",
     "metadata": {},
     "outputs": []
    },
    {
     "cell_type": "code",
     "collapsed": false,
     "input": [
      "data_good = data[good_values]\n",
      "plt.plot(data_good.index, data_good.LUFTTEMPERATUR)"
     ],
     "language": "python",
     "metadata": {},
     "outputs": []
    },
    {
     "cell_type": "code",
     "collapsed": false,
     "input": [
      "data_good.LUFTTEMPERATUR.min()"
     ],
     "language": "python",
     "metadata": {},
     "outputs": []
    },
    {
     "cell_type": "code",
     "collapsed": false,
     "input": [
      "from scipy.optimize import curve_fit\n",
      "\n",
      "def f(x, y0, m):\n",
      "    return y0+x*m\n",
      "(y0, m), _ = curve_fit(f, data_good.index.values, data_good.LUFTTEMPERATUR.values)"
     ],
     "language": "python",
     "metadata": {},
     "outputs": []
    },
    {
     "cell_type": "code",
     "collapsed": false,
     "input": [
      "len(data.LUFTTEMPERATUR <= -999)"
     ],
     "language": "python",
     "metadata": {},
     "outputs": []
    },
    {
     "cell_type": "code",
     "collapsed": false,
     "input": [
      "print m*365"
     ],
     "language": "python",
     "metadata": {},
     "outputs": []
    },
    {
     "cell_type": "code",
     "collapsed": false,
     "input": [
      "good_values"
     ],
     "language": "python",
     "metadata": {},
     "outputs": []
    },
    {
     "cell_type": "code",
     "collapsed": false,
     "input": [
      "data_good.columns"
     ],
     "language": "python",
     "metadata": {},
     "outputs": []
    },
    {
     "cell_type": "code",
     "collapsed": false,
     "input": [
      "data_small = data_good[[1, 3, 7, 13, 15, 16]]"
     ],
     "language": "python",
     "metadata": {},
     "outputs": []
    },
    {
     "cell_type": "code",
     "collapsed": false,
     "input": [
      "nosnow = dict()\n",
      "\n",
      "for tup in data_good.itertuples():\n",
      "    print tup[2].year, tup[2].month, tup[-2]\n",
      "    if tup[2].month == 2 and tup[-2] > 0:\n",
      "        nosnow[tup[2].year] = False"
     ],
     "language": "python",
     "metadata": {},
     "outputs": []
    },
    {
     "cell_type": "code",
     "collapsed": false,
     "input": [
      "nosnow"
     ],
     "language": "python",
     "metadata": {},
     "outputs": []
    },
    {
     "cell_type": "code",
     "collapsed": false,
     "input": [],
     "language": "python",
     "metadata": {},
     "outputs": []
    },
    {
     "cell_type": "code",
     "collapsed": false,
     "input": [],
     "language": "python",
     "metadata": {},
     "outputs": []
    }
   ],
   "metadata": {}
  }
 ]
}